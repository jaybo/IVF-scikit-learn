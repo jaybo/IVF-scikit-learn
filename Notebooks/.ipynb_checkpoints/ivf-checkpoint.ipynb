{
 "metadata": {
  "name": "",
  "signature": "sha256:bebfdbca33dd271510957d7f6320977c9a4a59a2fb2cfbe46f8982e4613bc4ad"
 },
 "nbformat": 3,
 "nbformat_minor": 0,
 "worksheets": [
  {
   "cells": [
    {
     "cell_type": "heading",
     "level": 1,
     "metadata": {},
     "source": [
      "IVF"
     ]
    },
    {
     "cell_type": "heading",
     "level": 3,
     "metadata": {},
     "source": [
      "Load all the data"
     ]
    },
    {
     "cell_type": "code",
     "collapsed": false,
     "input": [
      "# note: this also imports numpy as np, imports matplotlib.pyplot as plt, and others\n",
      "%pylab inline"
     ],
     "language": "python",
     "metadata": {},
     "outputs": [
      {
       "output_type": "stream",
       "stream": "stdout",
       "text": [
        "Populating the interactive namespace from numpy and matplotlib\n"
       ]
      },
      {
       "output_type": "stream",
       "stream": "stderr",
       "text": [
        "WARNING: pylab import has clobbered these variables: ['clf']\n",
        "`%matplotlib` prevents importing * from pylab and numpy\n"
       ]
      }
     ],
     "prompt_number": 316
    },
    {
     "cell_type": "code",
     "collapsed": false,
     "input": [
      "%run rawdata.py"
     ],
     "language": "python",
     "metadata": {},
     "outputs": [],
     "prompt_number": 317
    },
    {
     "cell_type": "code",
     "collapsed": false,
     "input": [
      "print cols\n",
      "print rawdata.shape\n",
      "print rawdata"
     ],
     "language": "python",
     "metadata": {},
     "outputs": [
      {
       "output_type": "stream",
       "stream": "stdout",
       "text": [
        "['ID', 'Dose5', 'Dose7', 'Dose9', 'Dose10', 'Dose11', 'E2Day5', 'E2Day7', 'E2Day9', 'E2Day10', 'E2Day11', 'LT10D5', 'L1D5', 'L2D5', 'L3D5', 'L4D5', 'L5D5', 'LT10D7', 'L1D7', 'L2D7', 'L3D7', 'L4D7', 'L5D7', 'LT10D9', 'L1D9', 'L2D9', 'L3D9', 'L4D9', 'L5D9', 'Lt10D10', 'L1D10', 'L2D10', 'L3D10', 'L4D10', 'L5D10', 'Lt10D11', 'L1D11', 'L2D11', 'L3D11', 'L4D11', 'L5D11', 'HCGD9', 'HCGD10', 'HCGD11', 'DownD7', 'DownD9', 'DownD10', 'DownD11', 'CancelD5', 'CancelD7', 'CancelD9', 'CancelD10', 'CancelD11']\n",
        "(25, 53)\n",
        "[[   0.  225.  225. ...,    0.    0.    0.]\n",
        " [   1.  150.  150. ...,    0.    0.    0.]\n",
        " [   2.  225.  225. ...,    0.    0.    0.]\n",
        " ..., \n",
        " [  22.  150.    0. ...,    0.    0.    0.]\n",
        " [  23.  150.  150. ...,    1.    0.    0.]\n",
        " [  24.  150.  150. ...,    1.    0.    0.]]\n"
       ]
      }
     ],
     "prompt_number": 318
    },
    {
     "cell_type": "heading",
     "level": 3,
     "metadata": {},
     "source": [
      "Create the subsets for each day"
     ]
    },
    {
     "cell_type": "code",
     "collapsed": false,
     "input": [
      "n_samples = rawdata.shape\n",
      "\n",
      "X_allDays =  [np.array(rawdata[:,Day5InputColumns]), \n",
      "              np.array(rawdata[:,Day7InputColumns]), \n",
      "              np.array(rawdata[:,Day9InputColumns]), \n",
      "              np.array(rawdata[:,Day10InputColumns]), \n",
      "              np.array(rawdata[:,Day11InputColumns])]\n",
      "\n",
      "y_allDays =  [np.array(Day5IdealColumns), \n",
      "              np.array(Day7IdealColumns), \n",
      "              np.array(Day9IdealColumns), \n",
      "              np.array(Day10IdealColumns), \n",
      "              np.array(Day11IdealColumns)]\n",
      "\n",
      "if True:\n",
      "    day = 0\n",
      "    X_day = np.array(X_allDays[day])\n",
      "    y_day = np.array(y_allDays[day])\n",
      "    print X_day.shape\n",
      "    print X_day\n",
      "    print y_day.shape\n",
      "    \n",
      "    y_dayHGC = np.squeeze(rawdata[:,[y_day[0]]])\n",
      "    y_dayDwn = np.squeeze(rawdata[:,[y_day[1]]])\n",
      "    y_dayCan = np.squeeze(rawdata[:,[y_day[2]]])\n",
      "            \n",
      "    print y_dayHGC\n",
      "    print y_dayDwn\n",
      "    print y_dayCan\n",
      "\n"
     ],
     "language": "python",
     "metadata": {},
     "outputs": [
      {
       "output_type": "stream",
       "stream": "stdout",
       "text": [
        "(25, 15)\n",
        "[[  2.25000000e+02   3.43000000e+02   9.53000000e+02   7.00000000e+00\n",
        "    0.00000000e+00   0.00000000e+00   0.00000000e+00   0.00000000e+00\n",
        "    0.00000000e+00   5.00000000e+00   1.20000000e+01   0.00000000e+00\n",
        "    0.00000000e+00   0.00000000e+00   0.00000000e+00]\n",
        " [  1.50000000e+02   4.40000000e+02   1.28800000e+03   5.00000000e+00\n",
        "    1.10000000e+01   1.10000000e+01   0.00000000e+00   0.00000000e+00\n",
        "    0.00000000e+00   0.00000000e+00   1.40000000e+01   1.40000000e+01\n",
        "    1.30000000e+01   1.30000000e+01   0.00000000e+00]\n",
        " [  2.25000000e+02   2.83000000e+02   3.57000000e+02   7.00000000e+00\n",
        "    0.00000000e+00   0.00000000e+00   0.00000000e+00   0.00000000e+00\n",
        "    0.00000000e+00   0.00000000e+00   1.40000000e+01   1.30000000e+01\n",
        "    1.30000000e+01   1.20000000e+01   0.00000000e+00]\n",
        " [  2.25000000e+02   4.59000000e+02   1.53700000e+03   8.00000000e+00\n",
        "    0.00000000e+00   0.00000000e+00   0.00000000e+00   0.00000000e+00\n",
        "    0.00000000e+00   0.00000000e+00   1.30000000e+01   1.30000000e+01\n",
        "    1.20000000e+01   1.20000000e+01   0.00000000e+00]\n",
        " [  1.50000000e+02   5.74000000e+02   1.38100000e+03   7.00000000e+00\n",
        "    0.00000000e+00   0.00000000e+00   0.00000000e+00   0.00000000e+00\n",
        "    0.00000000e+00   0.00000000e+00   1.60000000e+01   1.50000000e+01\n",
        "    1.50000000e+01   1.40000000e+01   0.00000000e+00]\n",
        " [  2.25000000e+02   3.81000000e+02   8.90000000e+02   7.00000000e+00\n",
        "    0.00000000e+00   0.00000000e+00   0.00000000e+00   0.00000000e+00\n",
        "    0.00000000e+00   0.00000000e+00   1.40000000e+01   1.30000000e+01\n",
        "    1.20000000e+01   1.20000000e+01   0.00000000e+00]\n",
        " [  1.50000000e+02   6.22000000e+02   9.12000000e+02   7.00000000e+00\n",
        "    0.00000000e+00   0.00000000e+00   0.00000000e+00   0.00000000e+00\n",
        "    0.00000000e+00   0.00000000e+00   1.50000000e+01   1.50000000e+01\n",
        "    1.40000000e+01   1.30000000e+01   0.00000000e+00]\n",
        " [  2.25000000e+02   5.62000000e+02   1.46100000e+03   1.00000000e+01\n",
        "    0.00000000e+00   0.00000000e+00   0.00000000e+00   0.00000000e+00\n",
        "    0.00000000e+00   0.00000000e+00   1.50000000e+01   1.40000000e+01\n",
        "    1.40000000e+01   1.30000000e+01   0.00000000e+00]\n",
        " [  1.50000000e+02   2.11000000e+02   5.91000000e+02   1.00000000e+01\n",
        "    0.00000000e+00   0.00000000e+00   0.00000000e+00   0.00000000e+00\n",
        "    0.00000000e+00   0.00000000e+00   1.30000000e+01   1.30000000e+01\n",
        "    1.20000000e+01   1.20000000e+01   0.00000000e+00]\n",
        " [  1.50000000e+02   2.02000000e+02   5.93000000e+02   7.00000000e+00\n",
        "    0.00000000e+00   0.00000000e+00   0.00000000e+00   0.00000000e+00\n",
        "    0.00000000e+00   0.00000000e+00   1.50000000e+01   1.40000000e+01\n",
        "    1.40000000e+01   1.30000000e+01   0.00000000e+00]\n",
        " [  1.50000000e+02   3.17000000e+02   6.80000000e+02   7.00000000e+00\n",
        "    0.00000000e+00   0.00000000e+00   0.00000000e+00   0.00000000e+00\n",
        "    0.00000000e+00   0.00000000e+00   1.50000000e+01   1.50000000e+01\n",
        "    1.40000000e+01   1.40000000e+01   0.00000000e+00]\n",
        " [  1.50000000e+02   2.55000000e+02   6.32000000e+02   8.00000000e+00\n",
        "    0.00000000e+00   0.00000000e+00   0.00000000e+00   0.00000000e+00\n",
        "    0.00000000e+00   0.00000000e+00   1.30000000e+01   1.20000000e+01\n",
        "    1.20000000e+01   1.10000000e+01   0.00000000e+00]\n",
        " [  1.50000000e+02   3.27000000e+02   9.94000000e+02   8.00000000e+00\n",
        "    0.00000000e+00   0.00000000e+00   0.00000000e+00   0.00000000e+00\n",
        "    0.00000000e+00   0.00000000e+00   1.50000000e+01   1.40000000e+01\n",
        "    1.20000000e+01   1.20000000e+01   0.00000000e+00]\n",
        " [  1.50000000e+02   1.26000000e+02   4.37000000e+02   8.00000000e+00\n",
        "    0.00000000e+00   0.00000000e+00   0.00000000e+00   0.00000000e+00\n",
        "    0.00000000e+00   0.00000000e+00   1.30000000e+01   1.20000000e+01\n",
        "    1.20000000e+01   1.10000000e+01   0.00000000e+00]\n",
        " [  1.50000000e+02   6.35000000e+02   1.31800000e+03   1.00000000e+01\n",
        "    0.00000000e+00   0.00000000e+00   0.00000000e+00   0.00000000e+00\n",
        "    0.00000000e+00   0.00000000e+00   1.70000000e+01   1.50000000e+01\n",
        "    1.40000000e+01   1.40000000e+01   0.00000000e+00]\n",
        " [  1.50000000e+02   1.20000000e+02   2.00000000e+02   3.00000000e+00\n",
        "    1.20000000e+01   1.20000000e+01   0.00000000e+00   0.00000000e+00\n",
        "    0.00000000e+00   2.00000000e+00   1.40000000e+01   1.20000000e+01\n",
        "    1.20000000e+01   0.00000000e+00   0.00000000e+00]\n",
        " [  1.50000000e+02   9.00000000e+01   1.00000000e+02   4.00000000e+00\n",
        "    1.20000000e+01   0.00000000e+00   0.00000000e+00   0.00000000e+00\n",
        "    0.00000000e+00   2.00000000e+00   1.20000000e+01   1.20000000e+01\n",
        "    1.20000000e+01   0.00000000e+00   0.00000000e+00]\n",
        " [  1.50000000e+02   2.20000000e+02   2.92000000e+02   1.00000000e+00\n",
        "    1.40000000e+01   1.30000000e+01   1.20000000e+01   1.20000000e+01\n",
        "    0.00000000e+00   2.00000000e+00   1.60000000e+01   1.30000000e+01\n",
        "    1.20000000e+01   0.00000000e+00   0.00000000e+00]\n",
        " [  1.50000000e+02   7.00000000e+01   1.10000000e+02   1.00000000e+00\n",
        "    1.30000000e+01   1.20000000e+01   1.20000000e+01   1.20000000e+01\n",
        "    0.00000000e+00   0.00000000e+00   1.30000000e+01   1.20000000e+01\n",
        "    1.20000000e+01   1.20000000e+01   1.20000000e+01]\n",
        " [  1.50000000e+02   2.12000000e+02   3.00000000e+02   3.00000000e+00\n",
        "    1.50000000e+01   1.20000000e+01   0.00000000e+00   0.00000000e+00\n",
        "    0.00000000e+00   2.00000000e+00   1.50000000e+01   1.20000000e+01\n",
        "    1.20000000e+01   0.00000000e+00   0.00000000e+00]\n",
        " [  1.50000000e+02   1.10000000e+02   1.92000000e+02   0.00000000e+00\n",
        "    1.40000000e+01   1.20000000e+01   1.20000000e+01   1.20000000e+01\n",
        "    1.20000000e+01   2.00000000e+00   1.40000000e+01   1.30000000e+01\n",
        "    1.20000000e+01   0.00000000e+00   0.00000000e+00]\n",
        " [  1.50000000e+02   3.00000000e+01   7.00000000e+01   3.00000000e+00\n",
        "    1.50000000e+01   1.20000000e+01   0.00000000e+00   0.00000000e+00\n",
        "    0.00000000e+00   2.00000000e+00   1.50000000e+01   1.20000000e+01\n",
        "    1.20000000e+01   0.00000000e+00   0.00000000e+00]\n",
        " [  1.50000000e+02   9.20000000e+01   1.50000000e+02   2.00000000e+00\n",
        "    1.20000000e+01   1.20000000e+01   1.20000000e+01   0.00000000e+00\n",
        "    0.00000000e+00   1.00000000e+00   1.30000000e+01   1.20000000e+01\n",
        "    1.20000000e+01   1.20000000e+01   0.00000000e+00]\n",
        " [  1.50000000e+02   1.18000000e+02   2.72000000e+02   3.00000000e+00\n",
        "    1.60000000e+01   1.40000000e+01   0.00000000e+00   0.00000000e+00\n",
        "    0.00000000e+00   3.00000000e+00   1.60000000e+01   1.40000000e+01\n",
        "    0.00000000e+00   0.00000000e+00   0.00000000e+00]\n",
        " [  1.50000000e+02   3.00000000e+01   5.00000000e+01   1.00000000e+00\n",
        "    1.30000000e+01   1.20000000e+01   1.20000000e+01   1.20000000e+01\n",
        "    0.00000000e+00   2.00000000e+00   1.30000000e+01   1.20000000e+01\n",
        "    1.20000000e+01   0.00000000e+00   0.00000000e+00]]\n",
        "(3,)\n",
        "[ 0.  1.  0.  0.  0.  0.  0.  0.  0.  0.  1.  0.  0.  0.  0.  0.  0.  0.\n",
        "  0.  0.  0.  0.  0.  0.  0.]\n",
        "[ 0.  0.  0.  1.  0.  0.  0.  1.  0.  0.  0.  0.  0.  0.  1.  0.  0.  0.\n",
        "  0.  0.  0.  0.  0.  0.  0.]\n",
        "[ 0.  0.  0.  0.  0.  0.  0.  0.  0.  0.  0.  0.  0.  0.  0.  0.  0.  0.\n",
        "  0.  0.  0.  0.  0.  0.  0.]\n"
       ]
      }
     ],
     "prompt_number": 319
    },
    {
     "cell_type": "heading",
     "level": 1,
     "metadata": {},
     "source": [
      "Learn how to graph"
     ]
    },
    {
     "cell_type": "code",
     "collapsed": false,
     "input": [
      "x_index = 0\n",
      "y_index = 8\n",
      "\n",
      "# this formatter will label the colorbar with the correct target names\n",
      "#formatter = plt.FuncFormatter(lambda i, *args: cols[int(i)])\n",
      "\n",
      "plt.scatter(Day5_X[:, x_index], Day5_X[:, y_index])\n",
      "#plt.colorbar(ticks=[0,1,2], format=formatter)\n",
      "plt.xlabel(cols[x_index])\n",
      "plt.ylabel(cols[y_index])"
     ],
     "language": "python",
     "metadata": {},
     "outputs": [
      {
       "metadata": {},
       "output_type": "pyout",
       "prompt_number": 320,
       "text": [
        "<matplotlib.text.Text at 0x11029ff50>"
       ]
      },
      {
       "metadata": {},
       "output_type": "display_data",
       "png": "[encoded data removed]",
       "text": [
        "<matplotlib.figure.Figure at 0x1101c6b50>"
       ]
      }
     ],
     "prompt_number": 320
    },
    {
     "cell_type": "code",
     "collapsed": false,
     "input": [
      "from sklearn import linear_model\n",
      "from sklearn.svm import LinearSVC\n",
      "from sklearn.svm import SVC\n",
      "from sklearn import cross_validation\n",
      "\n",
      "\n",
      "\n",
      "for  i, day in enumerate(Days):\n",
      "    print day\n",
      "    \n",
      "    X_day = X_allDays[i]\n",
      "    y_day = y_allDays[i]\n",
      "    print X_day.shape\n",
      "    print y_day.shape\n",
      "    #X_train, X_test, y_train, y_test = cross_validation.train_test_split(X_day, y_day, test_size=0.25, random_state=0) # 25% of test data\n",
      "\n",
      "    #y_test\n",
      "#print X_day\n",
      "    #print y_day\n",
      "    \n",
      "    y_dayHGC = np.squeeze(rawdata[:,[y_day[0]]])\n",
      "    y_dayDwn = np.squeeze(rawdata[:,[y_day[1]]])\n",
      "    y_dayCan = np.squeeze(rawdata[:,[y_day[2]]])\n",
      "            \n",
      "    #print y_dayHGC\n",
      "    #print y_dayDwn\n",
      "    #print y_dayCan\n",
      "    \n",
      "    #clf = LinearSVC(loss = 'l2')\n",
      "    clf = SVC()\n",
      "    clf.fit(np.matrix(X_day), y_dayHGC)    \n",
      "    y_pred = clf.predict(X_day)\n",
      "    score = clf.score(X_day, y_dayHGC)\n",
      "\n",
      "    print score\n",
      "    print (y_pred == y_dayHGC)\n",
      "    \n"
     ],
     "language": "python",
     "metadata": {},
     "outputs": [
      {
       "output_type": "stream",
       "stream": "stdout",
       "text": [
        "Day5\n",
        "(25, 15)\n",
        "(3,)\n",
        "1.0\n",
        "[ True  True  True  True  True  True  True  True  True  True  True  True\n",
        "  True  True  True  True  True  True  True  True  True  True  True  True\n",
        "  True]\n",
        "Day7\n",
        "(25, 15)\n",
        "(3,)\n",
        "1.0\n",
        "[ True  True  True  True  True  True  True  True  True  True  True  True\n",
        "  True  True  True  True  True  True  True  True  True  True  True  True\n",
        "  True]\n",
        "Day9\n",
        "(25, 23)\n",
        "(3,)\n",
        "1.0\n",
        "[ True  True  True  True  True  True  True  True  True  True  True  True\n",
        "  True  True  True  True  True  True  True  True  True  True  True  True\n",
        "  True]\n",
        "Day10\n",
        "(25, 31)\n",
        "(3,)\n",
        "1.0\n",
        "[ True  True  True  True  True  True  True  True  True  True  True  True\n",
        "  True  True  True  True  True  True  True  True  True  True  True  True\n",
        "  True]\n",
        "Day11\n",
        "(25, 39)\n",
        "(3,)\n",
        "1.0\n",
        "[ True  True  True  True  True  True  True  True  True  True  True  True\n",
        "  True  True  True  True  True  True  True  True  True  True  True  True\n",
        "  True]\n"
       ]
      }
     ],
     "prompt_number": 321
    },
    {
     "cell_type": "code",
     "collapsed": false,
     "input": [
      "rawdata\n"
     ],
     "language": "python",
     "metadata": {},
     "outputs": [
      {
       "metadata": {},
       "output_type": "pyout",
       "prompt_number": 297,
       "text": [
        "array([[   0.,  225.,  225., ...,    0.,    0.,    0.],\n",
        "       [   1.,  150.,  150., ...,    0.,    0.,    0.],\n",
        "       [   2.,  225.,  225., ...,    0.,    0.,    0.],\n",
        "       ..., \n",
        "       [  22.,  150.,    0., ...,    0.,    0.,    0.],\n",
        "       [  23.,  150.,  150., ...,    1.,    0.,    0.],\n",
        "       [  24.,  150.,  150., ...,    1.,    0.,    0.]])"
       ]
      }
     ],
     "prompt_number": 297
    },
    {
     "cell_type": "code",
     "collapsed": false,
     "input": [],
     "language": "python",
     "metadata": {},
     "outputs": [],
     "prompt_number": 283
    },
    {
     "cell_type": "code",
     "collapsed": false,
     "input": [],
     "language": "python",
     "metadata": {},
     "outputs": [],
     "prompt_number": 283
    },
    {
     "cell_type": "code",
     "collapsed": false,
     "input": [],
     "language": "python",
     "metadata": {},
     "outputs": [],
     "prompt_number": 283
    },
    {
     "cell_type": "code",
     "collapsed": false,
     "input": [],
     "language": "python",
     "metadata": {},
     "outputs": []
    }
   ],
   "metadata": {}
  }
 ]
}