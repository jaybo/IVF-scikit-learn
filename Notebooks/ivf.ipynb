{
 "metadata": {
  "name": "",
  "signature": "sha256:7bd98cb2a7b3a333c9361fe37bdafd62ec5044b99c9186d00cc4d9d4e1a50eee"
 },
 "nbformat": 3,
 "nbformat_minor": 0,
 "worksheets": [
  {
   "cells": [
    {
     "cell_type": "heading",
     "level": 1,
     "metadata": {},
     "source": [
      "IVF tests in scikit-learn"
     ]
    },
    {
     "cell_type": "heading",
     "level": 3,
     "metadata": {},
     "source": [
      "Load all the data"
     ]
    },
    {
     "cell_type": "code",
     "collapsed": false,
     "input": [
      "# note: this also imports numpy as np, imports matplotlib.pyplot as plt, and others\n",
      "%pylab inline"
     ],
     "language": "python",
     "metadata": {},
     "outputs": [
      {
       "output_type": "stream",
       "stream": "stdout",
       "text": [
        "Populating the interactive namespace from numpy and matplotlib\n"
       ]
      }
     ],
     "prompt_number": 1
    },
    {
     "cell_type": "code",
     "collapsed": false,
     "input": [
      "%run rawdata.py"
     ],
     "language": "python",
     "metadata": {},
     "outputs": [],
     "prompt_number": 2
    },
    {
     "cell_type": "code",
     "collapsed": false,
     "input": [
      "print cols\n",
      "print rawdata.shape\n",
      "print rawdata"
     ],
     "language": "python",
     "metadata": {},
     "outputs": [
      {
       "output_type": "stream",
       "stream": "stdout",
       "text": [
        "['ID', 'Dose5', 'Dose7', 'Dose9', 'Dose10', 'Dose11', 'E2Day5', 'E2Day7', 'E2Day9', 'E2Day10', 'E2Day11', 'LT10D5', 'L1D5', 'L2D5', 'L3D5', 'L4D5', 'L5D5', 'LT10D7', 'L1D7', 'L2D7', 'L3D7', 'L4D7', 'L5D7', 'LT10D9', 'L1D9', 'L2D9', 'L3D9', 'L4D9', 'L5D9', 'Lt10D10', 'L1D10', 'L2D10', 'L3D10', 'L4D10', 'L5D10', 'Lt10D11', 'L1D11', 'L2D11', 'L3D11', 'L4D11', 'L5D11', 'HCGD9', 'HCGD10', 'HCGD11', 'DownD7', 'DownD9', 'DownD10', 'DownD11', 'CancelD5', 'CancelD7', 'CancelD9', 'CancelD10', 'CancelD11']\n",
        "(25L, 53L)\n",
        "[[   0.  225.  225. ...,    0.    0.    0.]\n",
        " [   1.  150.  150. ...,    0.    0.    0.]\n",
        " [   2.  225.  225. ...,    0.    0.    0.]\n",
        " ..., \n",
        " [  22.  150.    0. ...,    0.    0.    0.]\n",
        " [  23.  150.  150. ...,    1.    0.    0.]\n",
        " [  24.  150.  150. ...,    1.    0.    0.]]\n"
       ]
      }
     ],
     "prompt_number": 3
    },
    {
     "cell_type": "heading",
     "level": 3,
     "metadata": {},
     "source": [
      "Create the subsets for each day"
     ]
    },
    {
     "cell_type": "code",
     "collapsed": false,
     "input": [
      "n_samples = rawdata.shape\n",
      "\n",
      "# The features included in the model for each day\n",
      "X_allDays =  [np.array(rawdata[:,Day5InputColumns]), \n",
      "              np.array(rawdata[:,Day7InputColumns]), \n",
      "              np.array(rawdata[:,Day9InputColumns]), \n",
      "              np.array(rawdata[:,Day10InputColumns]), \n",
      "              np.array(rawdata[:,Day11InputColumns])]\n",
      "\n",
      "# the categories of ideal outcomes\n",
      "y_allDays =  [np.array(Day5IdealColumns), \n",
      "              np.array(Day7IdealColumns), \n",
      "              np.array(Day9IdealColumns), \n",
      "              np.array(Day10IdealColumns), \n",
      "              np.array(Day11IdealColumns)]\n",
      "\n",
      "if True:\n",
      "    day = 0\n",
      "    X_day = np.array(X_allDays[day])\n",
      "    y_day = np.array(y_allDays[day])\n",
      "    print X_day.shape\n",
      "    #print X_day\n",
      "    print y_day.shape\n",
      "    \n",
      "    y_dayHGC = np.squeeze(rawdata[:,[y_day[0]]])\n",
      "    y_dayDwn = np.squeeze(rawdata[:,[y_day[1]]])\n",
      "    y_dayCan = np.squeeze(rawdata[:,[y_day[2]]])\n",
      "            \n",
      "    print y_dayHGC\n",
      "    print y_dayDwn\n",
      "    print y_dayCan\n",
      "\n"
     ],
     "language": "python",
     "metadata": {},
     "outputs": [
      {
       "output_type": "stream",
       "stream": "stdout",
       "text": [
        "(25L, 15L)\n",
        "(3L,)\n",
        "[ 0.  1.  0.  0.  0.  0.  0.  0.  0.  0.  1.  0.  0.  0.  0.  0.  0.  0.\n",
        "  0.  0.  0.  0.  0.  0.  0.]\n",
        "[ 0.  0.  0.  1.  0.  0.  0.  1.  0.  0.  0.  0.  0.  0.  1.  0.  0.  0.\n",
        "  0.  0.  0.  0.  0.  0.  0.]\n",
        "[ 0.  0.  0.  0.  0.  0.  0.  0.  0.  0.  0.  0.  0.  0.  0.  0.  0.  0.\n",
        "  0.  0.  0.  0.  0.  0.  0.]\n"
       ]
      }
     ],
     "prompt_number": 17
    },
    {
     "cell_type": "heading",
     "level": 1,
     "metadata": {},
     "source": [
      "Learn how to graph"
     ]
    },
    {
     "cell_type": "code",
     "collapsed": false,
     "input": [
      "x_index = 0\n",
      "y_index = 7\n",
      "\n",
      "# this formatter will label the colorbar with the correct target names\n",
      "#formatter = plt.FuncFormatter(lambda i, *args: cols[int(i)])\n",
      "\n",
      "plt.scatter(rawdata[:, x_index], rawdata[:, y_index])\n",
      "#plt.colorbar(ticks=[0,1,2], format=formatter)\n",
      "plt.xlabel(cols[x_index])\n",
      "plt.ylabel(cols[y_index])"
     ],
     "language": "python",
     "metadata": {},
     "outputs": [
      {
       "metadata": {},
       "output_type": "pyout",
       "prompt_number": 21,
       "text": [
        "<matplotlib.text.Text at 0x9c8a710>"
       ]
      },
      {
       "metadata": {},
       "output_type": "display_data",
       "png": "[encoded data removed]",
       "text": [
        "<matplotlib.figure.Figure at 0x9c611d0>"
       ]
      }
     ],
     "prompt_number": 21
    },
    {
     "cell_type": "heading",
     "level": 2,
     "metadata": {},
     "source": [
      "Create classifiers and test performance"
     ]
    },
    {
     "cell_type": "code",
     "collapsed": false,
     "input": [
      "from sklearn import linear_model\n",
      "from sklearn.svm import LinearSVC\n",
      "from sklearn.svm import SVC\n",
      "from sklearn.neighbors import KNeighborsClassifier\n",
      "from sklearn.neighbors.nearest_centroid import NearestCentroid\n",
      "from sklearn.naive_bayes import GaussianNB\n",
      "from sklearn import cross_validation\n",
      "from sklearn.metrics import classification_report\n",
      "\n",
      "classifier = LinearSVC(loss = 'l2')\n",
      "#classifier = SVC()\n",
      "#classifier = NeighborsClassifier()\n",
      "#classifier = NearestCentroid()\n",
      "#classifier = GaussianNB()\n",
      "#classifier = KNeighborsClassifier(n_neighbors=3)\n",
      "\n",
      "for  i, day in enumerate(days):\n",
      "    print\n",
      "    print day, ' ----------------------------------------- '\n",
      "    \n",
      "    X_day = X_allDays[i]\n",
      "    y_day = y_allDays[i]\n",
      "    #print X_day.shape\n",
      "    #print y_day.shape\n",
      "\n",
      "    y_dayHGC = np.squeeze(rawdata[:,[y_day[0]]])\n",
      "    y_dayDwn = np.squeeze(rawdata[:,[y_day[1]]])\n",
      "    y_dayCan = np.squeeze(rawdata[:,[y_day[2]]])\n",
      "    \n",
      "    # train separate models for HGC, Down, and Cancel for each day\n",
      "    X_trainHGC, X_testHGC, y_trainHGC, y_testHGC = cross_validation.train_test_split(X_day, y_dayHGC, test_size=0.3) #, random_state=0) # 25% of test data\n",
      "    X_trainDwn, X_testDwn, y_trainDwn, y_testDwn = cross_validation.train_test_split(X_day, y_dayDwn, test_size=0.3) #, random_state=0) # 25% of test data\n",
      "    X_trainCan, X_testCan, y_trainCan, y_testCan = cross_validation.train_test_split(X_day, y_dayCan, test_size=0.3) #, random_state=0) # 25% of test data\n",
      "            \n",
      "    #print y_dayHGC\n",
      "    #print y_dayDwn\n",
      "    #print y_dayCan\n",
      "    \n",
      "    print 'HGC ---'\n",
      "    if y_trainHGC.any() == True:\n",
      "        classifier.fit(np.matrix(X_trainHGC), y_trainHGC)    \n",
      "        y_predHGC = classifier.predict(X_testHGC)\n",
      "        print(classification_report(y_testHGC, y_predHGC))\n",
      "        #print (y_predHGC == y_testHGC)\n",
      "    \n",
      "    print 'Down ---'\n",
      "    if y_trainDwn.any() == True:\n",
      "        classifier.fit(np.matrix(X_trainDwn), y_trainDwn)    \n",
      "        y_predDwn = classifier.predict(X_testDwn)\n",
      "        print(classification_report(y_testDwn, y_predDwn))\n",
      "        #print (y_predDwn == y_testDwn)\n",
      "        \n",
      "            \n",
      "    print 'Cancel ---'\n",
      "    if y_trainCan.any() == True:\n",
      "        classifier.fit(np.matrix(X_trainCan), y_trainCan)    \n",
      "        y_predCan = classifier.predict(X_testCan)\n",
      "        print(classification_report(y_testCan, y_predCan))\n",
      "        #print (y_predCan == y_testCan)"
     ],
     "language": "python",
     "metadata": {},
     "outputs": [
      {
       "output_type": "stream",
       "stream": "stdout",
       "text": [
        "\n",
        "Day5  ----------------------------------------- \n",
        "HGC ---\n",
        "             precision    recall  f1-score   support\n",
        "\n",
        "        0.0       0.88      1.00      0.93         7\n",
        "        1.0       0.00      0.00      0.00         1\n",
        "\n",
        "avg / total       0.77      0.88      0.82         8\n",
        "\n",
        "Down ---\n",
        "             precision    recall  f1-score   support\n",
        "\n",
        "        0.0       0.86      0.86      0.86         7\n",
        "        1.0       0.00      0.00      0.00         1\n",
        "\n",
        "avg / total       0.75      0.75      0.75         8\n",
        "\n",
        "Cancel ---\n",
        "\n",
        "Day7  ----------------------------------------- \n",
        "HGC ---\n",
        "             precision    recall  f1-score   support\n",
        "\n",
        "        0.0       0.80      0.57      0.67         7\n",
        "        1.0       0.00      0.00      0.00         1\n",
        "\n",
        "avg / total       0.70      0.50      0.58         8\n",
        "\n",
        "Down ---\n",
        "             precision    recall  f1-score   support\n",
        "\n",
        "        0.0       0.80      0.67      0.73         6\n",
        "        1.0       0.33      0.50      0.40         2\n",
        "\n",
        "avg / total       0.68      0.62      0.65         8\n",
        "\n",
        "Cancel ---\n",
        "             precision    recall  f1-score   support\n",
        "\n",
        "        0.0       1.00      0.60      0.75         5\n",
        "        1.0       0.60      1.00      0.75         3\n",
        "\n",
        "avg / total       0.85      0.75      0.75         8\n",
        "\n",
        "\n",
        "Day9  ----------------------------------------- \n",
        "HGC ---\n",
        "             precision    recall  f1-score   support\n",
        "\n",
        "        0.0       1.00      0.88      0.93         8\n",
        "        1.0       0.00      0.00      0.00         0\n",
        "\n",
        "avg / total       1.00      0.88      0.93         8\n",
        "\n",
        "Down ---\n",
        "             precision    recall  f1-score   support\n",
        "\n",
        "        0.0       1.00      0.71      0.83         7\n",
        "        1.0       0.33      1.00      0.50         1\n",
        "\n",
        "avg / total       0.92      0.75      0.79         8\n",
        "\n",
        "Cancel ---\n",
        "             precision    recall  f1-score   support\n",
        "\n",
        "        0.0       1.00      0.88      0.93         8\n",
        "        1.0       0.00      0.00      0.00         0\n",
        "\n",
        "avg / total       1.00      0.88      0.93         8\n",
        "\n",
        "\n",
        "Day10  ----------------------------------------- \n",
        "HGC ---\n",
        "             precision    recall  f1-score   support\n",
        "\n",
        "        0.0       1.00      0.75      0.86         4\n",
        "        1.0       0.80      1.00      0.89         4\n",
        "\n",
        "avg / total       0.90      0.88      0.87         8\n",
        "\n",
        "Down ---\n",
        "             precision    recall  f1-score   support\n",
        "\n",
        "        0.0       1.00      0.83      0.91         6\n",
        "        1.0       0.67      1.00      0.80         2\n",
        "\n",
        "avg / total       0.92      0.88      0.88         8\n",
        "\n",
        "Cancel ---\n",
        "\n",
        "Day11  ----------------------------------------- \n",
        "HGC ---\n",
        "             precision    recall  f1-score   support\n",
        "\n",
        "        0.0       1.00      1.00      1.00         8\n",
        "\n",
        "avg / total       1.00      1.00      1.00         8\n",
        "\n",
        "Down ---\n",
        "Cancel ---\n"
       ]
      },
      {
       "output_type": "stream",
       "stream": "stderr",
       "text": [
        "C:\\WinPython-64bit-2.7.5.3\\python-2.7.5.amd64\\lib\\site-packages\\sklearn\\metrics\\metrics.py:1905: UserWarning: The precision and recall are equal to zero for some labels. fbeta_score is ill defined for those labels [ 1.]. \n",
        "  average=None)\n"
       ]
      }
     ],
     "prompt_number": 20
    },
    {
     "cell_type": "code",
     "collapsed": false,
     "input": [],
     "language": "python",
     "metadata": {},
     "outputs": []
    }
   ],
   "metadata": {}
  }
 ]
}